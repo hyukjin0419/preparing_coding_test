{
 "cells": [
  {
   "cell_type": "code",
   "execution_count": 15,
   "id": "0c35d9f4-df49-4021-ab0f-040d357e845d",
   "metadata": {},
   "outputs": [
    {
     "name": "stdin",
     "output_type": "stream",
     "text": [
      "input your number: 5\n"
     ]
    },
    {
     "name": "stdout",
     "output_type": "stream",
     "text": [
      "*****\n",
      " ****\n",
      "  ***\n",
      "   **\n",
      "    *\n"
     ]
    }
   ],
   "source": [
    "num = input('input your number:')\n",
    "num = int(num)\n",
    "\n",
    "for i in range(num,0,-1):\n",
    "    for j in range(num-i,0,-1):\n",
    "        print(\" \", end ='')\n",
    "    for j in range(i,0,-1):\n",
    "        print(\"*\", end ='')\n",
    "    print()"
   ]
  }
 ],
 "metadata": {
  "kernelspec": {
   "display_name": "Python 3 (ipykernel)",
   "language": "python",
   "name": "python3"
  },
  "language_info": {
   "codemirror_mode": {
    "name": "ipython",
    "version": 3
   },
   "file_extension": ".py",
   "mimetype": "text/x-python",
   "name": "python",
   "nbconvert_exporter": "python",
   "pygments_lexer": "ipython3",
   "version": "3.11.7"
  }
 },
 "nbformat": 4,
 "nbformat_minor": 5
}
