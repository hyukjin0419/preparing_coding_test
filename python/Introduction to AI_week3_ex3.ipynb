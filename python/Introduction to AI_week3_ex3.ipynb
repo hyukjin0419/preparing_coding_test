{
 "cells": [
  {
   "cell_type": "code",
   "execution_count": 2,
   "id": "e22fff86-5275-4bbf-9779-81182c05b97c",
   "metadata": {},
   "outputs": [
    {
     "name": "stdout",
     "output_type": "stream",
     "text": [
      "['강남역우정에쉐르' '2006Q1' '9000.0' '2004.0' '역삼동' '17.23' '7.0' '37.4942041'\n",
      " '127.0435446']\n"
     ]
    },
    {
     "data": {
      "text/plain": [
       "array([[1.        , 0.03241268],\n",
       "       [0.03241268, 1.        ]])"
      ]
     },
     "execution_count": 2,
     "metadata": {},
     "output_type": "execute_result"
    }
   ],
   "source": [
    "import numpy as np\n",
    "import openpyxl \n",
    "\n",
    "file = openpyxl.load_workbook('data_set_train.xlsx')\n",
    "ws = file.active\n",
    "\n",
    "data = []\n",
    "col = []\n",
    "\n",
    "for row in ws.iter_rows(max_row=1):\n",
    "    for cell in row:\n",
    "        col.append(cell.value)\n",
    "\n",
    "for row in ws.iter_rows(min_row=2):\n",
    "    ls=[]\n",
    "    for cell in row:\n",
    "        ls.append(cell.value)\n",
    "    data.append(ls)\n",
    "\n",
    "arr = np.array(data)\n",
    "data_set = arr[:,:9]\n",
    "# data_set\n",
    "\n",
    "\n",
    "data_set2006 = data_set[data_set[:,1]<'2007Q1',:]\n",
    "data_set2006\n",
    "\n",
    "price = data_set2006[:,2]\n",
    "price.dtype\n",
    "\n",
    "print(data_set2006[0])\n",
    "\n",
    "price = data_set2006[:,2].astype(float)\n",
    "lat = data_set2006[:,7].astype(float)\n",
    "lng = data_set2006[:,8].astype(float)\n",
    "\n",
    "station = arr[:,19].astype(float)\n",
    "price=arr[:,2].astype(float)\n",
    "np.corrcoef(price, station)"
   ]
  }
 ],
 "metadata": {
  "kernelspec": {
   "display_name": "Python 3 (ipykernel)",
   "language": "python",
   "name": "python3"
  },
  "language_info": {
   "codemirror_mode": {
    "name": "ipython",
    "version": 3
   },
   "file_extension": ".py",
   "mimetype": "text/x-python",
   "name": "python",
   "nbconvert_exporter": "python",
   "pygments_lexer": "ipython3",
   "version": "3.11.7"
  }
 },
 "nbformat": 4,
 "nbformat_minor": 5
}
