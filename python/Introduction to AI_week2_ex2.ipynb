{
 "cells": [
  {
   "cell_type": "code",
   "execution_count": 2,
   "id": "3fb35c81-ef48-4e45-b29f-b4a9def550be",
   "metadata": {},
   "outputs": [
    {
     "name": "stdin",
     "output_type": "stream",
     "text": [
      "Enter the start day (0~6) >>  2\n",
      "Enter the number of days (28~31) >>  29\n"
     ]
    },
    {
     "name": "stdout",
     "output_type": "stream",
     "text": [
      "Sum Mon Tue Wed Thu Fri Sat\n",
      "          1   2   3   4   5 \n",
      "  6   7   8   9  10  11  12 \n",
      " 13  14  15  16  17  18  19 \n",
      " 20  21  22  23  24  25  26 \n",
      " 27  28  29 "
     ]
    }
   ],
   "source": [
    "startDay = input('Enter the start day (0~6) >> ')\n",
    "days = input('Enter the number of days (28~31) >> ')\n",
    "startDay = int(startDay)\n",
    "days= int(days)\n",
    "print('Sum Mon Tue Wed Thu Fri Sat')\n",
    "\n",
    "# 0 1 2 3 4 5 6\n",
    "# 시작을 입력 받고, 끝을 입력받는다. 6이 될때마다 줄바꿈을 해준다\n",
    "\n",
    "for i in range(startDay):\n",
    "        print(\"    \",end='')\n",
    "    \n",
    "for i in range (1,days+1):\n",
    "    s = \"%3s\" % i\n",
    "    print(s, end=' ')\n",
    "    if((startDay + i) % 7 == 0):\n",
    "        print()\n",
    "    "
   ]
  },
  {
   "cell_type": "code",
   "execution_count": null,
   "id": "9f915487-96b7-4e67-a1f8-05b250ba072e",
   "metadata": {},
   "outputs": [],
   "source": []
  }
 ],
 "metadata": {
  "kernelspec": {
   "display_name": "Python 3 (ipykernel)",
   "language": "python",
   "name": "python3"
  },
  "language_info": {
   "codemirror_mode": {
    "name": "ipython",
    "version": 3
   },
   "file_extension": ".py",
   "mimetype": "text/x-python",
   "name": "python",
   "nbconvert_exporter": "python",
   "pygments_lexer": "ipython3",
   "version": "3.11.7"
  }
 },
 "nbformat": 4,
 "nbformat_minor": 5
}
