{
 "cells": [
  {
   "cell_type": "code",
   "execution_count": 3,
   "id": "fb1f7825-040e-4fc7-bda3-728764c73a4a",
   "metadata": {},
   "outputs": [
    {
     "name": "stdout",
     "output_type": "stream",
     "text": [
      "2006 년 매매 평균가격은 : 67076.57928926252\n",
      "2007 년 매매 평균가격은 : 58405.71893939394\n",
      "2008 년 매매 평균가격은 : 66136.66583747928\n",
      "2009 년 매매 평균가격은 : 83060.50290939318\n",
      "2010 년 매매 평균가격은 : 77282.02958093672\n",
      "2011 년 매매 평균가격은 : 76748.97150610584\n",
      "2012 년 매매 평균가격은 : 72714.51982378855\n",
      "2013 년 매매 평균가격은 : 78839.01584905661\n",
      "2014 년 매매 평균가격은 : 84002.69641434263\n",
      "2015 년 매매 평균가격은 : 87213.44117647059\n",
      "2016 년 매매 평균가격은 : 97149.95279838167\n",
      "2017 년 매매 평균가격은 : 114656.7944877172\n"
     ]
    }
   ],
   "source": [
    "import numpy as np\n",
    "import openpyxl \n",
    "\n",
    "file = openpyxl.load_workbook('data_set_train.xlsx')\n",
    "ws = file.active\n",
    "\n",
    "data = []\n",
    "col = []\n",
    "\n",
    "for row in ws.iter_rows(max_row=1):\n",
    "    for cell in row:\n",
    "        col.append(cell.value)\n",
    "\n",
    "for row in ws.iter_rows(min_row=2):\n",
    "    ls=[]\n",
    "    for cell in row:\n",
    "        ls.append(cell.value)\n",
    "    data.append(ls)\n",
    "\n",
    "arr = np.array(data)\n",
    "\n",
    "data_set = arr[:,1:3]\n",
    "\n",
    "dic={} \n",
    "year='2006'\n",
    "mean_price_year={}\n",
    "ls=[]\n",
    "for i in data_set:\n",
    "    # print(i[1][:4])\n",
    "    if i[0][:4]!=year:\n",
    "        dic[year]=ls\n",
    "        ls=[]\n",
    "        year=int(year)+1\n",
    "        year=str(year)\n",
    "    if i[0][:4]==year:\n",
    "        ls.append(i[1])\n",
    "        dic[year]=ls\n",
    "        # print(\"실행중\")\n",
    "\n",
    "# print(dic)\n",
    "for i in dic:\n",
    "    dic[i]=np.array(dic[i],dtype=np.float64)\n",
    "\n",
    "for i in dic:\n",
    "    print(i + \" 년 매매 평균가격은 : \" + str(dic[i].mean()))\n",
    "    \n",
    "\n"
   ]
  },
  {
   "cell_type": "code",
   "execution_count": null,
   "id": "a71b330c-d693-488c-add9-859c6a23dae0",
   "metadata": {},
   "outputs": [],
   "source": []
  }
 ],
 "metadata": {
  "kernelspec": {
   "display_name": "Python 3 (ipykernel)",
   "language": "python",
   "name": "python3"
  },
  "language_info": {
   "codemirror_mode": {
    "name": "ipython",
    "version": 3
   },
   "file_extension": ".py",
   "mimetype": "text/x-python",
   "name": "python",
   "nbconvert_exporter": "python",
   "pygments_lexer": "ipython3",
   "version": "3.11.7"
  }
 },
 "nbformat": 4,
 "nbformat_minor": 5
}
