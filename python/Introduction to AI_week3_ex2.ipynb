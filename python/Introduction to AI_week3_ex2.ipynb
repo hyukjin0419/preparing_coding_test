{
 "cells": [
  {
   "cell_type": "code",
   "execution_count": 374,
   "id": "fb1f7825-040e-4fc7-bda3-728764c73a4a",
   "metadata": {},
   "outputs": [
    {
     "data": {
      "text/plain": [
       "array([['강남역우정에쉐르', '2006Q1', '9000.0'],\n",
       "       ['강남역우정에쉐르', '2006Q1', '9000.0'],\n",
       "       ['개포주공1단지', '2006Q1', '73000.0'],\n",
       "       ...,\n",
       "       ['현대빌라트', '2006Q4', '125000.0'],\n",
       "       ['현대빌라트', '2006Q4', '125000.0'],\n",
       "       ['현대빌라트', '2006Q4', '125000.0']], dtype='<U32')"
      ]
     },
     "execution_count": 374,
     "metadata": {},
     "output_type": "execute_result"
    }
   ],
   "source": [
    "import numpy as np\n",
    "import openpyxl \n",
    "\n",
    "file = openpyxl.load_workbook('data_set_train.xlsx')\n",
    "ws = file.active\n",
    "\n",
    "data = []\n",
    "col = []\n",
    "\n",
    "for row in ws.iter_rows(max_row=1):\n",
    "    for cell in row:\n",
    "        col.append(cell.value)\n",
    "\n",
    "for row in ws.iter_rows(min_row=2):\n",
    "    ls=[]\n",
    "    for cell in row:\n",
    "        ls.append(cell.value)\n",
    "    data.append(ls)\n",
    "\n",
    "arr = np.array(data)\n",
    "data_set = arr[:,:3]\n",
    "# data_set\n",
    "\n",
    "\n",
    "data_set2006 = data_set[data_set[:,1]<'2007Q1',:]\n",
    "data_set2006"
   ]
  }
 ],
 "metadata": {
  "kernelspec": {
   "display_name": "Python 3 (ipykernel)",
   "language": "python",
   "name": "python3"
  },
  "language_info": {
   "codemirror_mode": {
    "name": "ipython",
    "version": 3
   },
   "file_extension": ".py",
   "mimetype": "text/x-python",
   "name": "python",
   "nbconvert_exporter": "python",
   "pygments_lexer": "ipython3",
   "version": "3.11.7"
  }
 },
 "nbformat": 4,
 "nbformat_minor": 5
}
